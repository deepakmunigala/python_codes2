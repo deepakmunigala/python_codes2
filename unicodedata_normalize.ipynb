{
 "cells": [
  {
   "cell_type": "code",
   "execution_count": 1,
   "id": "ef37c46f",
   "metadata": {},
   "outputs": [],
   "source": [
    "import unicodedata"
   ]
  },
  {
   "cell_type": "code",
   "execution_count": 2,
   "id": "76f87901",
   "metadata": {},
   "outputs": [
    {
     "name": "stdout",
     "output_type": "stream",
     "text": [
      "123abcアイウエオ1(株)キロメートル\n"
     ]
    }
   ],
   "source": [
    "s = '１２３ａｂｃｱｲｳｴｵ①㈱㌖'\n",
    "print(unicodedata.normalize('NFKC', s))"
   ]
  },
  {
   "cell_type": "code",
   "execution_count": 3,
   "id": "170688a6",
   "metadata": {},
   "outputs": [
    {
     "name": "stdout",
     "output_type": "stream",
     "text": [
      "１２３ａｂｃｱｲｳｴｵ①②③¹²³\n"
     ]
    }
   ],
   "source": [
    "s = '１２３ａｂｃｱｲｳｴｵ①②③¹²³'\n",
    "print(unicodedata.normalize('NFD', s))"
   ]
  },
  {
   "cell_type": "code",
   "execution_count": 4,
   "id": "243426a7",
   "metadata": {},
   "outputs": [
    {
     "name": "stdout",
     "output_type": "stream",
     "text": [
      "１２３ａｂｃｱｲｳｴｵ①②③¹²³\n"
     ]
    }
   ],
   "source": [
    "print(unicodedata.normalize('NFC', s))"
   ]
  },
  {
   "cell_type": "code",
   "execution_count": 5,
   "id": "874f81bd",
   "metadata": {},
   "outputs": [
    {
     "name": "stdout",
     "output_type": "stream",
     "text": [
      "123abcアイウエオ123123\n"
     ]
    }
   ],
   "source": [
    "print(unicodedata.normalize('NFKD', s))"
   ]
  },
  {
   "cell_type": "code",
   "execution_count": 6,
   "id": "f72a3ff1",
   "metadata": {},
   "outputs": [
    {
     "name": "stdout",
     "output_type": "stream",
     "text": [
      "123abcアイウエオ123123\n"
     ]
    }
   ],
   "source": [
    "print(unicodedata.normalize('NFKC', s))"
   ]
  },
  {
   "cell_type": "code",
   "execution_count": 7,
   "id": "c3b6501b",
   "metadata": {},
   "outputs": [
    {
     "name": "stdout",
     "output_type": "stream",
     "text": [
      "がガぱパ\n",
      "['か', '゙', 'カ', '゙', 'は', '゚', 'ハ', '゚']\n"
     ]
    }
   ],
   "source": [
    "s = 'がガぱパ'\n",
    "print(unicodedata.normalize('NFD', s))\n",
    "print(list(unicodedata.normalize('NFD', s)))"
   ]
  },
  {
   "cell_type": "code",
   "execution_count": 8,
   "id": "6beb1d62",
   "metadata": {},
   "outputs": [
    {
     "name": "stdout",
     "output_type": "stream",
     "text": [
      "がガぱパ\n",
      "['が', 'ガ', 'ぱ', 'パ']\n"
     ]
    }
   ],
   "source": [
    "print(unicodedata.normalize('NFC', s))\n",
    "print(list(unicodedata.normalize('NFC', s)))"
   ]
  },
  {
   "cell_type": "code",
   "execution_count": 9,
   "id": "59c686ca",
   "metadata": {},
   "outputs": [
    {
     "name": "stdout",
     "output_type": "stream",
     "text": [
      "がガぱパ\n",
      "['か', '゙', 'カ', '゙', 'は', '゚', 'ハ', '゚']\n"
     ]
    }
   ],
   "source": [
    "print(unicodedata.normalize('NFKD', s))\n",
    "print(list(unicodedata.normalize('NFKD', s)))"
   ]
  },
  {
   "cell_type": "code",
   "execution_count": 10,
   "id": "417bf59b",
   "metadata": {},
   "outputs": [
    {
     "name": "stdout",
     "output_type": "stream",
     "text": [
      "がガぱパ\n",
      "['が', 'ガ', 'ぱ', 'パ']\n"
     ]
    }
   ],
   "source": [
    "print(unicodedata.normalize('NFKC', s))\n",
    "print(list(unicodedata.normalize('NFKC', s)))"
   ]
  },
  {
   "cell_type": "code",
   "execution_count": 11,
   "id": "da43b65b",
   "metadata": {},
   "outputs": [
    {
     "name": "stdout",
     "output_type": "stream",
     "text": [
      "ｶﾞﾊﾟ\n",
      "['ｶ', 'ﾞ', 'ﾊ', 'ﾟ']\n"
     ]
    }
   ],
   "source": [
    "s = 'ｶﾞﾊﾟ'\n",
    "print(s)\n",
    "print(list(s))"
   ]
  },
  {
   "cell_type": "code",
   "execution_count": 12,
   "id": "acfaa61e",
   "metadata": {},
   "outputs": [
    {
     "name": "stdout",
     "output_type": "stream",
     "text": [
      "ｶﾞﾊﾟ\n",
      "['ｶ', 'ﾞ', 'ﾊ', 'ﾟ']\n"
     ]
    }
   ],
   "source": [
    "print(unicodedata.normalize('NFD', s))\n",
    "print(list(unicodedata.normalize('NFD', s)))"
   ]
  },
  {
   "cell_type": "code",
   "execution_count": 13,
   "id": "70c0f560",
   "metadata": {},
   "outputs": [
    {
     "name": "stdout",
     "output_type": "stream",
     "text": [
      "ｶﾞﾊﾟ\n",
      "['ｶ', 'ﾞ', 'ﾊ', 'ﾟ']\n"
     ]
    }
   ],
   "source": [
    "print(unicodedata.normalize('NFC', s))\n",
    "print(list(unicodedata.normalize('NFC', s)))"
   ]
  },
  {
   "cell_type": "code",
   "execution_count": 14,
   "id": "97744039",
   "metadata": {},
   "outputs": [
    {
     "name": "stdout",
     "output_type": "stream",
     "text": [
      "ガパ\n",
      "['カ', '゙', 'ハ', '゚']\n"
     ]
    }
   ],
   "source": [
    "print(unicodedata.normalize('NFKD', s))\n",
    "print(list(unicodedata.normalize('NFKD', s)))"
   ]
  },
  {
   "cell_type": "code",
   "execution_count": 15,
   "id": "1c3334c3",
   "metadata": {},
   "outputs": [
    {
     "name": "stdout",
     "output_type": "stream",
     "text": [
      "ガパ\n",
      "['ガ', 'パ']\n"
     ]
    }
   ],
   "source": [
    "print(unicodedata.normalize('NFKC', s))\n",
    "print(list(unicodedata.normalize('NFKC', s)))"
   ]
  },
  {
   "cell_type": "code",
   "execution_count": 16,
   "id": "9e0fd1c0",
   "metadata": {},
   "outputs": [
    {
     "name": "stdout",
     "output_type": "stream",
     "text": [
      "㈱㌖\n"
     ]
    }
   ],
   "source": [
    "s = '㈱㌖'\n",
    "print(unicodedata.normalize('NFD', s))"
   ]
  },
  {
   "cell_type": "code",
   "execution_count": 17,
   "id": "e1ffb83a",
   "metadata": {},
   "outputs": [
    {
     "name": "stdout",
     "output_type": "stream",
     "text": [
      "㈱㌖\n"
     ]
    }
   ],
   "source": [
    "print(unicodedata.normalize('NFC', s))"
   ]
  },
  {
   "cell_type": "code",
   "execution_count": 18,
   "id": "0bd7b8ae",
   "metadata": {},
   "outputs": [
    {
     "name": "stdout",
     "output_type": "stream",
     "text": [
      "(株)キロメートル\n"
     ]
    }
   ],
   "source": [
    "print(unicodedata.normalize('NFKD', s))"
   ]
  },
  {
   "cell_type": "code",
   "execution_count": 19,
   "id": "513dd4ed",
   "metadata": {},
   "outputs": [
    {
     "name": "stdout",
     "output_type": "stream",
     "text": [
      "(株)キロメートル\n"
     ]
    }
   ],
   "source": [
    "print(unicodedata.normalize('NFKC', s))"
   ]
  },
  {
   "cell_type": "code",
   "execution_count": 20,
   "id": "3571a6fd",
   "metadata": {},
   "outputs": [
    {
     "name": "stdout",
     "output_type": "stream",
     "text": [
      "123abcアイウエオ123abcアイウエオ\n"
     ]
    }
   ],
   "source": [
    "s = '１２３ａｂｃアイウエオ123abcｱｲｳｴｵ'\n",
    "print(unicodedata.normalize('NFKC', s))"
   ]
  },
  {
   "cell_type": "code",
   "execution_count": 21,
   "id": "e3da997b",
   "metadata": {},
   "outputs": [
    {
     "name": "stdout",
     "output_type": "stream",
     "text": [
      "().,「」。、().,「」。、\n"
     ]
    }
   ],
   "source": [
    "s = '（）．，「」。、().,｢｣｡､'\n",
    "print(unicodedata.normalize('NFKC', s))"
   ]
  },
  {
   "cell_type": "code",
   "execution_count": 22,
   "id": "0209140e",
   "metadata": {},
   "outputs": [
    {
     "name": "stdout",
     "output_type": "stream",
     "text": [
      "~〜\n"
     ]
    }
   ],
   "source": [
    "s = '～〜'\n",
    "print(unicodedata.normalize('NFKC', s))"
   ]
  },
  {
   "cell_type": "code",
   "execution_count": 23,
   "id": "cba1dfcd",
   "metadata": {},
   "outputs": [
    {
     "name": "stdout",
     "output_type": "stream",
     "text": [
      "['0xff5e', '0x301c']\n"
     ]
    }
   ],
   "source": [
    "print([hex(ord(c)) for c in s])"
   ]
  },
  {
   "cell_type": "code",
   "execution_count": 24,
   "id": "bf076b4d",
   "metadata": {},
   "outputs": [
    {
     "name": "stdout",
     "output_type": "stream",
     "text": [
      "['0x7e', '0x301c']\n"
     ]
    }
   ],
   "source": [
    "print([hex(ord(c)) for c in unicodedata.normalize('NFKC', s)])"
   ]
  },
  {
   "cell_type": "code",
   "execution_count": 25,
   "id": "15125fe9",
   "metadata": {},
   "outputs": [
    {
     "name": "stdout",
     "output_type": "stream",
     "text": [
      "1(株)キロメートル\n"
     ]
    }
   ],
   "source": [
    "s = '①㈱㌖'\n",
    "print(unicodedata.normalize('NFKC', s))"
   ]
  },
  {
   "cell_type": "code",
   "execution_count": 26,
   "id": "78ea6626",
   "metadata": {},
   "outputs": [
    {
     "name": "stdout",
     "output_type": "stream",
     "text": [
      "®©💯\n"
     ]
    }
   ],
   "source": [
    "s = '®©💯'\n",
    "print(unicodedata.normalize('NFKC', s))"
   ]
  },
  {
   "cell_type": "code",
   "execution_count": 27,
   "id": "918efa83",
   "metadata": {},
   "outputs": [
    {
     "name": "stdout",
     "output_type": "stream",
     "text": [
      "~~\n"
     ]
    }
   ],
   "source": [
    "s = '～〜'\n",
    "print(unicodedata.normalize('NFKC', s).replace('〜', '~'))"
   ]
  },
  {
   "cell_type": "code",
   "execution_count": 28,
   "id": "23e1a033",
   "metadata": {},
   "outputs": [
    {
     "name": "stdout",
     "output_type": "stream",
     "text": [
      "~~\n"
     ]
    }
   ],
   "source": [
    "print(unicodedata.normalize('NFKC', s.replace('〜', '～')))"
   ]
  },
  {
   "cell_type": "code",
   "execution_count": 29,
   "id": "49af9660",
   "metadata": {},
   "outputs": [
    {
     "name": "stdout",
     "output_type": "stream",
     "text": [
      "RC\n"
     ]
    }
   ],
   "source": [
    "s = '®©'\n",
    "print(s.translate(str.maketrans('®©', 'RC')))"
   ]
  },
  {
   "cell_type": "code",
   "execution_count": 30,
   "id": "62ef5bb8",
   "metadata": {},
   "outputs": [
    {
     "name": "stdout",
     "output_type": "stream",
     "text": [
      "True\n"
     ]
    }
   ],
   "source": [
    "s = '１２３ａｂｃｱｲｳｴｵ①②③¹²³'\n",
    "print(unicodedata.is_normalized('NFC', s))"
   ]
  },
  {
   "cell_type": "code",
   "execution_count": 31,
   "id": "8cc89004",
   "metadata": {},
   "outputs": [
    {
     "name": "stdout",
     "output_type": "stream",
     "text": [
      "False\n"
     ]
    }
   ],
   "source": [
    "print(unicodedata.is_normalized('NFKC', s))"
   ]
  }
 ],
 "metadata": {
  "kernelspec": {
   "display_name": "Python 3",
   "language": "python",
   "name": "python3"
  },
  "language_info": {
   "codemirror_mode": {
    "name": "ipython",
    "version": 3
   },
   "file_extension": ".py",
   "mimetype": "text/x-python",
   "name": "python",
   "nbconvert_exporter": "python",
   "pygments_lexer": "ipython3",
   "version": "3.10.8"
  }
 },
 "nbformat": 4,
 "nbformat_minor": 5
}
