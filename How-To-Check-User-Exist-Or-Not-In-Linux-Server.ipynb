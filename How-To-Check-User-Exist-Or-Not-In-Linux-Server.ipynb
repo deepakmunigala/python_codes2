{
 "cells": [
  {
   "cell_type": "markdown",
   "metadata": {},
   "source": [
    "<h3 align=\"center\"><b>How To Check User Exist Or Not In Linux Server?</h3>"
   ]
  },
  {
   "cell_type": "code",
   "execution_count": 5,
   "metadata": {},
   "outputs": [
    {
     "name": "stdout",
     "output_type": "stream",
     "text": [
      "'mana' exist.\n"
     ]
    }
   ],
   "source": [
    "%%bash\n",
    "\n",
    "getent passwd mana &> /dev/null \\\n",
    "&& echo \"'$_' exist.\" || echo \"'$_' not exist.\""
   ]
  },
  {
   "cell_type": "markdown",
   "metadata": {},
   "source": [
    "****"
   ]
  },
  {
   "cell_type": "code",
   "execution_count": 3,
   "metadata": {},
   "outputs": [
    {
     "name": "stdout",
     "output_type": "stream",
     "text": [
      "Enter User Name: mana\n",
      "User 'mana' exist.\n"
     ]
    }
   ],
   "source": [
    "import pwd\n",
    "\n",
    "def user_chk(user):\n",
    "    try:\n",
    "        pwd.getpwnam(user).pw_name\n",
    "        return f'User {user!r} exist.'\n",
    "    except KeyError:\n",
    "        return f'User {user!r} not exist.'\n",
    "\n",
    "print(user_chk(input('Enter User Name: ')))"
   ]
  }
 ],
 "metadata": {
  "kernelspec": {
   "display_name": "Python 3",
   "language": "python",
   "name": "python3"
  },
  "language_info": {
   "codemirror_mode": {
    "name": "ipython",
    "version": 3
   },
   "file_extension": ".py",
   "mimetype": "text/x-python",
   "name": "python",
   "nbconvert_exporter": "python",
   "pygments_lexer": "ipython3",
   "version": "3.6.9"
  },
  "widgets": {
   "application/vnd.jupyter.widget-state+json": {
    "state": {},
    "version_major": 2,
    "version_minor": 0
   }
  }
 },
 "nbformat": 4,
 "nbformat_minor": 2
}
