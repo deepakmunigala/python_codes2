{
 "cells": [
  {
   "cell_type": "markdown",
   "metadata": {},
   "source": [
    "<h3 align=\"center\"><b>How To Calculate Memory Usage Per Process On Linux?</h3>"
   ]
  },
  {
   "cell_type": "markdown",
   "metadata": {},
   "source": [
    "> **Pss is Best Memory Indiactor Memory useage per process.**\n",
    "\n",
    "> **Concept of PSS Memory :**<br>\n",
    "**RSS = Private pages + Shared pages**<br>\n",
    "**PSS = Private pages + Shared pages / Number process shared**<br>\n",
    "**Actual RAM usage = Private pages + PSS - Private pages**<br>\n"
   ]
  },
  {
   "cell_type": "code",
   "execution_count": 3,
   "metadata": {},
   "outputs": [
    {
     "name": "stdout",
     "output_type": "stream",
     "text": [
      "42.7 MB\n"
     ]
    }
   ],
   "source": [
    "%%bash\n",
    "\n",
    "PID=2489 ##This is Processid\n",
    "awk '/^Pss:/{ sum += $2 } END {printf \"%.1f MB\\n\", sum/1024}' \\\n",
    "/proc/$PID/smaps"
   ]
  },
  {
   "cell_type": "code",
   "execution_count": 4,
   "metadata": {},
   "outputs": [
    {
     "name": "stdout",
     "output_type": "stream",
     "text": [
      "42.7 MB\n"
     ]
    }
   ],
   "source": [
    "\n",
    "from pathlib import Path\n",
    "PID='2489'\n",
    "file = Path('/proc/'+PID+'/smaps').read_text()\n",
    "Pss = [int(i.strip().split()[1]) for i in file.splitlines()\n",
    "if i.startswith(\"Pss\")]\n",
    "print(round(sum(Pss)/1024, 1), 'MB')"
   ]
  },
  {
   "cell_type": "markdown",
   "metadata": {},
   "source": [
    "<h4 align=\"center\"><b>Calculate Private, Shared Memory Per Process</h4>"
   ]
  },
  {
   "cell_type": "code",
   "execution_count": 5,
   "metadata": {},
   "outputs": [
    {
     "name": "stdout",
     "output_type": "stream",
     "text": [
      "Private(MB)      Shared(MB)    = Total(MB) \t Process\n",
      "=========================================================\n",
      "39.0664   +      3.6748         = 42.7412  \t nautilus\n"
     ]
    }
   ],
   "source": [
    "%%bash\n",
    "\n",
    "PID=2489\n",
    "\n",
    "Pss=$(awk '/^Pss:/{ sum += $2 } END {print sum/1024}' /proc/$PID/smaps)\n",
    "Private=$(awk '/^Private/{ sum += $2 } END {print sum/1024}' /proc/$PID/smaps)\n",
    "\n",
    "if [ x\"$Rss\" != \"x\" -o x\"$Private\" != \"x\" ]; then\n",
    "Shared=$(awk -v pss=$Pss -v pri=$Private 'BEGIN {print pss - pri}')\n",
    "Name=$(awk '/^Name/{print $2}' /proc/$PID/status)\n",
    "Sum=$(awk -v sha=$Shared -v pri=$Private 'BEGIN {print sha + pri}')\n",
    "echo -e \"Private(MB)      Shared(MB)    = Total(MB) \\t Process\"\n",
    "printf \"%0.s=\" {1..57};echo\n",
    "echo -e \"$Private   +      $Shared         = $Sum  \\t $Name\"\n",
    "fi"
   ]
  },
  {
   "cell_type": "code",
   "execution_count": 16,
   "metadata": {},
   "outputs": [
    {
     "name": "stdout",
     "output_type": "stream",
     "text": [
      "Enter Process id: 2489\n",
      "Private(MB) Shared(MB) = Total(MB)  Process\n",
      "=============================================\n",
      "    39     +     4          43      nautilus \n"
     ]
    }
   ],
   "source": [
    "#%%python3\n",
    "\n",
    "from pathlib import Path\n",
    "import sys\n",
    "\n",
    "pss = []\n",
    "private = []\n",
    "\n",
    "try:\n",
    "    pid = input('Enter Process id: ')    \n",
    "    osmaps = Path('/proc/'+pid+'/smaps').read_text()  \n",
    "except (ValueError, FileNotFoundError):\n",
    "    print(sys.exc_info()[1])\n",
    "    sys.exit(2)\n",
    "else:\n",
    "    for text in osmaps.splitlines():\n",
    "        if text.startswith('Pss'):\n",
    "            pss.append(int(text.split()[1]))\n",
    "        if text.startswith('Private'):\n",
    "            private.append(int(text.split()[1]))\n",
    "\n",
    "Pss = round(sum(pss)/1024)\n",
    "Private = round(sum(private)/1024)\n",
    "Shared = Pss - Private\n",
    "Total = Private + Shared\n",
    "pname = Path('/proc/'+pid+'/status').read_text().splitlines()[0].split()[1]\n",
    "print(f'{\"Private(MB)\"} {\"Shared(MB)\"} = {\"Total(MB)\"}  {\"Process\"}')\n",
    "print('='*45)\n",
    "print(f'{Private:^10} + {Shared:^10} {Total:^10} {pname:^10}')"
   ]
  }
 ],
 "metadata": {
  "kernelspec": {
   "display_name": "Python 3",
   "language": "python",
   "name": "python3"
  },
  "language_info": {
   "codemirror_mode": {
    "name": "ipython",
    "version": 3
   },
   "file_extension": ".py",
   "mimetype": "text/x-python",
   "name": "python",
   "nbconvert_exporter": "python",
   "pygments_lexer": "ipython3",
   "version": "3.6.9"
  },
  "widgets": {
   "application/vnd.jupyter.widget-state+json": {
    "state": {},
    "version_major": 2,
    "version_minor": 0
   }
  }
 },
 "nbformat": 4,
 "nbformat_minor": 2
}
