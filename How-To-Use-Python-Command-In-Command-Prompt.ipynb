{
 "cells": [
  {
   "cell_type": "markdown",
   "metadata": {},
   "source": [
    "<h3 align=\"center\"><b>How To Use Python Command In Command Prompt?</h3>"
   ]
  },
  {
   "cell_type": "code",
   "execution_count": 7,
   "metadata": {},
   "outputs": [
    {
     "name": "stdout",
     "output_type": "stream",
     "text": [
      "root           daemon          bin                sys\n",
      "sync           games           man                lp\n",
      "mail           news            uucp               proxy\n",
      "www-data       backup          list               irc\n",
      "gnats          nobody          systemd-network    systemd-resolve\n",
      "syslog         messagebus      _apt               uuidd\n",
      "avahi-autoipd  usbmux          dnsmasq            rtkit\n",
      "lightdm        cups-pk-helper  speech-dispatcher  whoopsie\n",
      "kernoops       saned           pulse              nm-openvpn\n",
      "avahi          colord          hplip              geoclue\n",
      "mana           sshd\n"
     ]
    }
   ],
   "source": [
    "%%bash\n",
    "\n",
    "getent passwd | python3 -c 'import sys; \n",
    "for i in sys.stdin: print(i.split(\":\")[0])' | xargs -n4 | column -t"
   ]
  }
 ],
 "metadata": {
  "kernelspec": {
   "display_name": "Python 3",
   "language": "python",
   "name": "python3"
  },
  "language_info": {
   "codemirror_mode": {
    "name": "ipython",
    "version": 3
   },
   "file_extension": ".py",
   "mimetype": "text/x-python",
   "name": "python",
   "nbconvert_exporter": "python",
   "pygments_lexer": "ipython3",
   "version": "3.6.9"
  },
  "widgets": {
   "application/vnd.jupyter.widget-state+json": {
    "state": {},
    "version_major": 2,
    "version_minor": 0
   }
  }
 },
 "nbformat": 4,
 "nbformat_minor": 2
}
