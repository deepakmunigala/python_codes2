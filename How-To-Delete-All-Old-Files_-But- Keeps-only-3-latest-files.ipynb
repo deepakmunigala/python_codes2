{
 "cells": [
  {
   "cell_type": "markdown",
   "metadata": {},
   "source": [
    "<h3 align=\"center\">How To delete all old files? But Keeps only 3 latest files.</h3>"
   ]
  },
  {
   "cell_type": "markdown",
   "metadata": {},
   "source": [
    "___"
   ]
  },
  {
   "cell_type": "markdown",
   "metadata": {},
   "source": [
    "#### **Bash**"
   ]
  },
  {
   "cell_type": "code",
   "execution_count": 2,
   "metadata": {},
   "outputs": [],
   "source": [
    "%%bash\n",
    "\n",
    "files=($(ls -1t ~/Work))\n",
    "len=${#files[@]}\n",
    "for ((i=3; i < $len; i++))\n",
    "do\n",
    "rm -f ~/Work/${files[$i]}\n",
    "done"
   ]
  },
  {
   "cell_type": "markdown",
   "metadata": {},
   "source": [
    "---"
   ]
  },
  {
   "cell_type": "markdown",
   "metadata": {},
   "source": [
    "#### **Python**"
   ]
  },
  {
   "cell_type": "code",
   "execution_count": 3,
   "metadata": {},
   "outputs": [],
   "source": [
    "%%python3\n",
    "\n",
    "from pathlib import Path\n",
    "\n",
    "D = Path('/home/mana/Work')\n",
    "files = [(i, i.stat().st_mtime) for i in D.iterdir() \n",
    " if i.is_file()]\n",
    "result = sorted(files, key = lambda w: w[1])[::-1][3:]\n",
    "for file, day in result:\n",
    "    file.unlink()"
   ]
  }
 ],
 "metadata": {
  "kernelspec": {
   "display_name": "Python 3",
   "language": "python",
   "name": "python3"
  },
  "language_info": {
   "codemirror_mode": {
    "name": "ipython",
    "version": 3
   },
   "file_extension": ".py",
   "mimetype": "text/x-python",
   "name": "python",
   "nbconvert_exporter": "python",
   "pygments_lexer": "ipython3",
   "version": "3.8.5"
  },
  "widgets": {
   "application/vnd.jupyter.widget-state+json": {
    "state": {},
    "version_major": 1,
    "version_minor": 0
   }
  }
 },
 "nbformat": 4,
 "nbformat_minor": 4
}
