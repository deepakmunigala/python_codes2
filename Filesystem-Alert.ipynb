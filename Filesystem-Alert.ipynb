{
 "cells": [
  {
   "cell_type": "markdown",
   "metadata": {},
   "source": [
    "<h3 align=\"center\"><b>Filesystem Alert</h3>"
   ]
  },
  {
   "cell_type": "markdown",
   "metadata": {},
   "source": [
    "***"
   ]
  },
  {
   "cell_type": "markdown",
   "metadata": {},
   "source": [
    "#### **Bash:**"
   ]
  },
  {
   "cell_type": "code",
   "execution_count": 2,
   "metadata": {},
   "outputs": [
    {
     "name": "stdout",
     "output_type": "stream",
     "text": [
      "Running out of space /dev/sda1 45% on joe.\n"
     ]
    }
   ],
   "source": [
    "%%bash\n",
    "\n",
    "df -H | grep -Po \"^/dev/(?!.*snap).*\" | while read i\n",
    "do\n",
    "percent=$(echo $i | awk 'gsub(\"%\", \"\"){print $5}')\n",
    "fs=$(echo $i | awk '{print $1}')\n",
    "\n",
    "if (( $percent >= 40 )); then\n",
    "echo \"Running out of space $fs $percent% on $(hostname).\"\n",
    "fi\n",
    "done"
   ]
  },
  {
   "cell_type": "code",
   "execution_count": 1,
   "metadata": {},
   "outputs": [
    {
     "name": "stdout",
     "output_type": "stream",
     "text": [
      "Running out of space /dev/sda1 45% on joe.\n"
     ]
    }
   ],
   "source": [
    "%%bash\n",
    "\n",
    "df -H --output=source,pcent | grep -Po \"^/dev/(?!.*(snap|loop)).*\"\\\n",
    "| sed 's/%//g'| while read -r fs pc\n",
    "do\n",
    "if (($pc > 40))\n",
    "then\n",
    "echo \"Running out of space $fs $pc% on $HOSTNAME.\"\n",
    "fi\n",
    "done"
   ]
  },
  {
   "cell_type": "markdown",
   "metadata": {},
   "source": [
    "***"
   ]
  },
  {
   "cell_type": "markdown",
   "metadata": {},
   "source": [
    "#### **Python:**"
   ]
  },
  {
   "cell_type": "markdown",
   "metadata": {},
   "source": [
    "#### **Using statvfs System Call**"
   ]
  },
  {
   "cell_type": "markdown",
   "metadata": {},
   "source": [
    "##### **Using Function**"
   ]
  },
  {
   "cell_type": "code",
   "execution_count": 1,
   "metadata": {},
   "outputs": [
    {
     "name": "stdout",
     "output_type": "stream",
     "text": [
      "Running out of space / abvoe 42% .\n"
     ]
    }
   ],
   "source": [
    "%%python3\n",
    "\n",
    "from os import statvfs as svfs\n",
    "from re import compile, search\n",
    "from pathlib import Path          \n",
    "    \n",
    "comp = compile(r'^/dev/(?!.*snap)')\n",
    "mline = Path('/proc/mounts').read_text().splitlines()\n",
    "fs = [i.split()[1] for i in mline if comp.search(i)]\n",
    "\n",
    "for x in fs:\n",
    "    def usep(x, y):\n",
    "        return f\"{(x - y)/x:.0%}\"\n",
    "    percent = usep(svfs(x).f_blocks,svfs(x).f_bfree)\n",
    "    if int(percent.replace('%','')) > 40:\n",
    "        print(f'Running out of space {x} abvoe {percent:4}.')"
   ]
  },
  {
   "cell_type": "markdown",
   "metadata": {},
   "source": [
    "##### **Using OOPS**"
   ]
  },
  {
   "cell_type": "code",
   "execution_count": 4,
   "metadata": {},
   "outputs": [
    {
     "name": "stdout",
     "output_type": "stream",
     "text": [
      "Running out of space /dev/sda1 42% on joe.\n"
     ]
    }
   ],
   "source": [
    "%%python3\n",
    "\n",
    "from os import statvfs as svfs\n",
    "from re import compile, search\n",
    "from socket import gethostname\n",
    "from pathlib import Path\n",
    "\n",
    "class DiskUsage:\n",
    "    def __init__(self, file):\n",
    "        self.f_blocks = svfs(file).f_blocks\n",
    "        self.f_bfree = svfs(file).f_bfree\n",
    "\n",
    "    def usep(self):\n",
    "        return f\"{(self.f_blocks - self.f_bfree)/self.f_blocks:.0%}\"\n",
    "\n",
    "comp = compile(r'^/dev/(?!.*snap)')\n",
    "mline = Path('/proc/mounts').read_text().splitlines()\n",
    "fs = [i.split()[:2] for i in mline if comp.search(i)]\n",
    "     \n",
    "for x in fs:\n",
    "    disk = DiskUsage(x[1])\n",
    "    if int(disk.usep().replace('%','')) > 40:\n",
    "        print(f'Running out of space {x[0]} {disk.usep()}',end = ' ')\n",
    "        print(f'on {gethostname()}.')"
   ]
  },
  {
   "cell_type": "markdown",
   "metadata": {},
   "source": [
    "***"
   ]
  },
  {
   "cell_type": "markdown",
   "metadata": {},
   "source": [
    "#### **Using New Subprocess API** "
   ]
  },
  {
   "cell_type": "code",
   "execution_count": 5,
   "metadata": {},
   "outputs": [
    {
     "name": "stdout",
     "output_type": "stream",
     "text": [
      "Running out of space /dev/sda1 44% on joe.\n"
     ]
    }
   ],
   "source": [
    "%%python3\n",
    "\n",
    "from subprocess import PIPE, run\n",
    "from socket import gethostname\n",
    "from re import compile, search\n",
    "\n",
    "\n",
    "cmd = 'df -h'\n",
    "comp = compile(r'^/dev/(?!.*snap).*')\n",
    "args = dict(stdin=PIPE, stdout=PIPE, stderr=PIPE)\n",
    "stdout = run(cmd.split(), **args).stdout.decode()\n",
    "fs = [i for i in stdout.splitlines() if comp.search(i)]\n",
    "\n",
    "for i in fs:\n",
    "    percent = int(i.split()[4].replace('%',''))\n",
    "    dev = i.split()[0]\n",
    "    if percent > 40:\n",
    "        print(f'Running out of space {dev} {percent}% on {gethostname()}.')"
   ]
  },
  {
   "cell_type": "markdown",
   "metadata": {},
   "source": [
    "***"
   ]
  },
  {
   "cell_type": "markdown",
   "metadata": {},
   "source": [
    "#### **Using old Subprocess API**"
   ]
  },
  {
   "cell_type": "code",
   "execution_count": 6,
   "metadata": {},
   "outputs": [
    {
     "name": "stdout",
     "output_type": "stream",
     "text": [
      "Running out of space /dev/sda1 44% on joe.\n"
     ]
    }
   ],
   "source": [
    "%%python3\n",
    "\n",
    "from subprocess import check_output\n",
    "from socket import gethostname\n",
    "from re import search\n",
    "\n",
    "cmd = 'df -h'\n",
    "out = check_output(cmd.split()).decode().splitlines()\n",
    "fs = [i for i in out if search(r'^/dev/(?!.*snap)',i)]\n",
    "\n",
    "for i in fs:\n",
    "    percent = int(i.split()[4].replace('%',''))\n",
    "    dev = i.split()[0]\n",
    "    if percent > 40:\n",
    "        print(f'Running out of space {dev} {percent}% on {gethostname()}.')"
   ]
  }
 ],
 "metadata": {
  "kernelspec": {
   "display_name": "Python 3",
   "language": "python",
   "name": "python3"
  },
  "language_info": {
   "codemirror_mode": {
    "name": "ipython",
    "version": 3
   },
   "file_extension": ".py",
   "mimetype": "text/x-python",
   "name": "python",
   "nbconvert_exporter": "python",
   "pygments_lexer": "ipython3",
   "version": "3.8.5"
  },
  "widgets": {
   "application/vnd.jupyter.widget-state+json": {
    "state": {},
    "version_major": 2,
    "version_minor": 0
   }
  }
 },
 "nbformat": 4,
 "nbformat_minor": 2
}
