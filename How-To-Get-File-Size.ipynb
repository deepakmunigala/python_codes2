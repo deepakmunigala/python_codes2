{
 "cells": [
  {
   "cell_type": "markdown",
   "metadata": {},
   "source": [
    "<h3 align=\"center\">How To Get File Size?</h3>"
   ]
  },
  {
   "cell_type": "markdown",
   "metadata": {},
   "source": [
    "***"
   ]
  },
  {
   "cell_type": "code",
   "execution_count": 2,
   "metadata": {},
   "outputs": [
    {
     "name": "stdout",
     "output_type": "stream",
     "text": [
      "17M /home/mana/Work/Automate.pdf\n"
     ]
    }
   ],
   "source": [
    "%%bash\n",
    "\n",
    "ls -1sh /home/mana/Work/Automate.pdf"
   ]
  },
  {
   "cell_type": "markdown",
   "metadata": {},
   "source": [
    "***"
   ]
  },
  {
   "cell_type": "code",
   "execution_count": 3,
   "metadata": {},
   "outputs": [
    {
     "name": "stdout",
     "output_type": "stream",
     "text": [
      "17M /home/mana/Work/Automate.pdf\n"
     ]
    }
   ],
   "source": [
    "%%python3\n",
    "\n",
    "from os.path import getsize\n",
    "from bisect import bisect\n",
    "\n",
    "def convert(bytes):\n",
    "#        size = [1, 1e+3, 1e+6, 1e+9, 1e+12]      ## GB\n",
    "        size = [1, 2**10, 2**20, 2**30, 2**40]  ## GiB\n",
    "        unit = ['B', 'K', 'M', 'G', 'T']\n",
    "        index = bisect(size, bytes) - 1\n",
    "        return f\"{bytes/size[index]:.0f}{unit[index]}\"\n",
    "\n",
    "file = '/home/mana/Work/Automate.pdf'\n",
    "print(convert(getsize(file)), file)"
   ]
  }
 ],
 "metadata": {
  "kernelspec": {
   "display_name": "Python 3",
   "language": "python",
   "name": "python3"
  },
  "language_info": {
   "codemirror_mode": {
    "name": "ipython",
    "version": 3
   },
   "file_extension": ".py",
   "mimetype": "text/x-python",
   "name": "python",
   "nbconvert_exporter": "python",
   "pygments_lexer": "ipython3",
   "version": "3.6.9"
  },
  "widgets": {
   "application/vnd.jupyter.widget-state+json": {
    "state": {},
    "version_major": 2,
    "version_minor": 0
   }
  }
 },
 "nbformat": 4,
 "nbformat_minor": 2
}
