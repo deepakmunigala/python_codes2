{
 "cells": [
  {
   "cell_type": "code",
   "execution_count": 1,
   "id": "2f50a428",
   "metadata": {},
   "outputs": [
    {
     "name": "stdout",
     "output_type": "stream",
     "text": [
      "2\n"
     ]
    }
   ],
   "source": [
    "s = 'abc_aabbcc_abc'\n",
    "print(s.count('abc'))"
   ]
  },
  {
   "cell_type": "code",
   "execution_count": 2,
   "id": "3d2f8d10",
   "metadata": {},
   "outputs": [
    {
     "name": "stdout",
     "output_type": "stream",
     "text": [
      "4\n"
     ]
    }
   ],
   "source": [
    "print(s.count('a'))"
   ]
  },
  {
   "cell_type": "code",
   "execution_count": 3,
   "id": "5094b220",
   "metadata": {},
   "outputs": [
    {
     "name": "stdout",
     "output_type": "stream",
     "text": [
      "0\n"
     ]
    }
   ],
   "source": [
    "print(s.count('xyz'))"
   ]
  },
  {
   "cell_type": "code",
   "execution_count": 4,
   "id": "b1f52900",
   "metadata": {},
   "outputs": [
    {
     "name": "stdout",
     "output_type": "stream",
     "text": [
      "2\n"
     ]
    }
   ],
   "source": [
    "print(s.count('a', 4, 10))"
   ]
  },
  {
   "cell_type": "code",
   "execution_count": 5,
   "id": "d443170d",
   "metadata": {},
   "outputs": [
    {
     "name": "stdout",
     "output_type": "stream",
     "text": [
      "aabbcc\n"
     ]
    }
   ],
   "source": [
    "print(s[4:10])"
   ]
  },
  {
   "cell_type": "code",
   "execution_count": 6,
   "id": "037800f6",
   "metadata": {},
   "outputs": [
    {
     "name": "stdout",
     "output_type": "stream",
     "text": [
      "2\n"
     ]
    }
   ],
   "source": [
    "print(s[4:10].count('a'))"
   ]
  },
  {
   "cell_type": "code",
   "execution_count": 7,
   "id": "7b6aa25e",
   "metadata": {},
   "outputs": [
    {
     "name": "stdout",
     "output_type": "stream",
     "text": [
      "2\n"
     ]
    }
   ],
   "source": [
    "print(s.count('a', -9))"
   ]
  },
  {
   "cell_type": "code",
   "execution_count": 8,
   "id": "828a18ff",
   "metadata": {},
   "outputs": [
    {
     "name": "stdout",
     "output_type": "stream",
     "text": [
      "abbcc_abc\n"
     ]
    }
   ],
   "source": [
    "print(s[-9:])"
   ]
  },
  {
   "cell_type": "code",
   "execution_count": 9,
   "id": "77d87996",
   "metadata": {},
   "outputs": [
    {
     "name": "stdout",
     "output_type": "stream",
     "text": [
      "2\n"
     ]
    }
   ],
   "source": [
    "print(s[-9:].count('a'))"
   ]
  },
  {
   "cell_type": "code",
   "execution_count": 10,
   "id": "511499b8",
   "metadata": {},
   "outputs": [
    {
     "name": "stdout",
     "output_type": "stream",
     "text": [
      "1\n"
     ]
    }
   ],
   "source": [
    "s = 'abc_abc_abc'\n",
    "print(s.count('abc_abc'))"
   ]
  },
  {
   "cell_type": "code",
   "execution_count": 11,
   "id": "3cf0411a",
   "metadata": {},
   "outputs": [
    {
     "name": "stdout",
     "output_type": "stream",
     "text": [
      "2\n"
     ]
    }
   ],
   "source": [
    "s = 'I am Sam'\n",
    "print(s.count('am'))"
   ]
  },
  {
   "cell_type": "code",
   "execution_count": 12,
   "id": "d40e9e9b",
   "metadata": {},
   "outputs": [
    {
     "name": "stdout",
     "output_type": "stream",
     "text": [
      "['I', 'am', 'Sam']\n"
     ]
    }
   ],
   "source": [
    "l = s.split()\n",
    "print(l)"
   ]
  },
  {
   "cell_type": "code",
   "execution_count": 13,
   "id": "63f452a3",
   "metadata": {},
   "outputs": [
    {
     "name": "stdout",
     "output_type": "stream",
     "text": [
      "1\n"
     ]
    }
   ],
   "source": [
    "print(l.count('am'))"
   ]
  },
  {
   "cell_type": "code",
   "execution_count": 14,
   "id": "d9939ec4",
   "metadata": {},
   "outputs": [],
   "source": [
    "import re"
   ]
  },
  {
   "cell_type": "code",
   "execution_count": 15,
   "id": "251efa03",
   "metadata": {},
   "outputs": [
    {
     "name": "stdout",
     "output_type": "stream",
     "text": [
      "['123', '456', '789']\n"
     ]
    }
   ],
   "source": [
    "s = '123-456-789'\n",
    "print(re.findall('[0-9]{3}', s))"
   ]
  },
  {
   "cell_type": "code",
   "execution_count": 16,
   "id": "6900be4e",
   "metadata": {},
   "outputs": [
    {
     "name": "stdout",
     "output_type": "stream",
     "text": [
      "3\n"
     ]
    }
   ],
   "source": [
    "print(len(re.findall('[0-9]{3}', s)))"
   ]
  },
  {
   "cell_type": "code",
   "execution_count": 17,
   "id": "f4d592c8",
   "metadata": {},
   "outputs": [
    {
     "name": "stdout",
     "output_type": "stream",
     "text": [
      "['abc_abc', 'abc_abc']\n"
     ]
    }
   ],
   "source": [
    "s = 'abc_abc_abc'\n",
    "print(re.findall('(?=(abc_abc))', s))"
   ]
  },
  {
   "cell_type": "code",
   "execution_count": 18,
   "id": "5ce27810",
   "metadata": {},
   "outputs": [
    {
     "name": "stdout",
     "output_type": "stream",
     "text": [
      "2\n"
     ]
    }
   ],
   "source": [
    "print(len(re.findall('(?=(abc_abc))', s)))"
   ]
  },
  {
   "cell_type": "code",
   "execution_count": 19,
   "id": "6bdc2191",
   "metadata": {},
   "outputs": [
    {
     "name": "stdout",
     "output_type": "stream",
     "text": [
      "['123', '234', '345']\n"
     ]
    }
   ],
   "source": [
    "s = '12345'\n",
    "print(re.findall('(?=([0-9]{3}))', s))"
   ]
  },
  {
   "cell_type": "code",
   "execution_count": 20,
   "id": "5317cf7c",
   "metadata": {},
   "outputs": [
    {
     "name": "stdout",
     "output_type": "stream",
     "text": [
      "3\n"
     ]
    }
   ],
   "source": [
    "print(len(re.findall('(?=([0-9]{3}))', s)))"
   ]
  },
  {
   "cell_type": "code",
   "execution_count": 21,
   "id": "f3d3ba37",
   "metadata": {},
   "outputs": [
    {
     "name": "stdout",
     "output_type": "stream",
     "text": [
      "1\n"
     ]
    }
   ],
   "source": [
    "s = 'abc_ABC'\n",
    "print(s.count('abc'))"
   ]
  },
  {
   "cell_type": "code",
   "execution_count": 22,
   "id": "cd464e0a",
   "metadata": {},
   "outputs": [
    {
     "name": "stdout",
     "output_type": "stream",
     "text": [
      "abc_abc\n"
     ]
    }
   ],
   "source": [
    "print(s.lower())"
   ]
  },
  {
   "cell_type": "code",
   "execution_count": 23,
   "id": "3a742814",
   "metadata": {},
   "outputs": [
    {
     "name": "stdout",
     "output_type": "stream",
     "text": [
      "2\n"
     ]
    }
   ],
   "source": [
    "print(s.lower().count('abc'))"
   ]
  },
  {
   "cell_type": "code",
   "execution_count": 24,
   "id": "b4c52295",
   "metadata": {},
   "outputs": [
    {
     "name": "stdout",
     "output_type": "stream",
     "text": [
      "ABC_ABC\n"
     ]
    }
   ],
   "source": [
    "print(s.upper())"
   ]
  },
  {
   "cell_type": "code",
   "execution_count": 25,
   "id": "24240476",
   "metadata": {},
   "outputs": [
    {
     "name": "stdout",
     "output_type": "stream",
     "text": [
      "2\n"
     ]
    }
   ],
   "source": [
    "print(s.upper().count('ABC'))"
   ]
  },
  {
   "cell_type": "code",
   "execution_count": 26,
   "id": "046d8fec",
   "metadata": {},
   "outputs": [
    {
     "name": "stdout",
     "output_type": "stream",
     "text": [
      "['abc', 'ABC']\n"
     ]
    }
   ],
   "source": [
    "print(re.findall('abc', s, flags=re.IGNORECASE))"
   ]
  },
  {
   "cell_type": "code",
   "execution_count": 27,
   "id": "cace1d0d",
   "metadata": {},
   "outputs": [
    {
     "name": "stdout",
     "output_type": "stream",
     "text": [
      "['abc', 'ABC']\n"
     ]
    }
   ],
   "source": [
    "print(re.findall('ABC', s, flags=re.IGNORECASE))"
   ]
  }
 ],
 "metadata": {
  "kernelspec": {
   "display_name": "Python 3",
   "language": "python",
   "name": "python3"
  },
  "language_info": {
   "codemirror_mode": {
    "name": "ipython",
    "version": 3
   },
   "file_extension": ".py",
   "mimetype": "text/x-python",
   "name": "python",
   "nbconvert_exporter": "python",
   "pygments_lexer": "ipython3",
   "version": "3.10.8"
  }
 },
 "nbformat": 4,
 "nbformat_minor": 5
}
