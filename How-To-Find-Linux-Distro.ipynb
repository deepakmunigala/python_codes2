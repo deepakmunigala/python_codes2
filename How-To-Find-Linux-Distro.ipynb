{
 "cells": [
  {
   "cell_type": "markdown",
   "metadata": {},
   "source": [
    "<h3 align=\"center\"><b>How To Find Linux Distro?</h3>"
   ]
  },
  {
   "cell_type": "code",
   "execution_count": 2,
   "metadata": {},
   "outputs": [
    {
     "name": "stdout",
     "output_type": "stream",
     "text": [
      "\"Ubuntu 18.04.4 LTS\"\n"
     ]
    }
   ],
   "source": [
    "%%bash\n",
    "\n",
    "awk -F \"=\" '/PRETTY_NAME/{print $2}' /etc/os-*ase"
   ]
  },
  {
   "cell_type": "code",
   "execution_count": 3,
   "metadata": {},
   "outputs": [
    {
     "name": "stdout",
     "output_type": "stream",
     "text": [
      " Ubuntu 18.04.4 LTS\n"
     ]
    }
   ],
   "source": [
    "%%bash\n",
    "\n",
    "hostnamectl | awk '/Operating/' | sed 's/^.*://'"
   ]
  },
  {
   "cell_type": "markdown",
   "metadata": {},
   "source": [
    "**Note: cat command pass input to python. Then python manipulate data.**"
   ]
  },
  {
   "cell_type": "code",
   "execution_count": 5,
   "metadata": {},
   "outputs": [
    {
     "name": "stdout",
     "output_type": "stream",
     "text": [
      "\"Ubuntu 18.04.4 LTS\"\n",
      "\n"
     ]
    }
   ],
   "source": [
    "%%bash\n",
    "\n",
    "cat /etc/os-*ase | python3 -c \\\n",
    "'import sys; \n",
    "print(*[i.split(\"=\")[1] \n",
    "for i in sys.stdin if \n",
    "i.startswith(\"PRETTY\")])'"
   ]
  },
  {
   "cell_type": "markdown",
   "metadata": {},
   "source": [
    "***"
   ]
  },
  {
   "cell_type": "code",
   "execution_count": 7,
   "metadata": {},
   "outputs": [
    {
     "name": "stdout",
     "output_type": "stream",
     "text": [
      "\"Ubuntu 18.04.4 LTS\"\n"
     ]
    }
   ],
   "source": [
    "%%python3\n",
    "\n",
    "from pathlib import Path\n",
    "from re import match, sub\n",
    "\n",
    "file = Path('/etc/os-release').read_text()\n",
    "distro = [sub(r'PRE.*=','',i) \n",
    "          for i in file.splitlines()\n",
    "          if match(r'PRE',i)]\n",
    "print(*distro)"
   ]
  },
  {
   "cell_type": "markdown",
   "metadata": {},
   "source": [
    "**For Readability**"
   ]
  },
  {
   "cell_type": "code",
   "execution_count": 10,
   "metadata": {},
   "outputs": [
    {
     "name": "stdout",
     "output_type": "stream",
     "text": [
      "\"Ubuntu 18.04.4 LTS\"\n"
     ]
    }
   ],
   "source": [
    "from pathlib import Path\n",
    "from re import match, sub\n",
    "\n",
    "file = Path('/etc/os-release').read_text()\n",
    "for i in file.splitlines():\n",
    "    if match(r'PRE',i):\n",
    "        print(sub(r'PRE.*=','',i))\n"
   ]
  }
 ],
 "metadata": {
  "kernelspec": {
   "display_name": "Python 3",
   "language": "python",
   "name": "python3"
  },
  "language_info": {
   "codemirror_mode": {
    "name": "ipython",
    "version": 3
   },
   "file_extension": ".py",
   "mimetype": "text/x-python",
   "name": "python",
   "nbconvert_exporter": "python",
   "pygments_lexer": "ipython3",
   "version": "3.6.9"
  },
  "widgets": {
   "application/vnd.jupyter.widget-state+json": {
    "state": {},
    "version_major": 2,
    "version_minor": 0
   }
  }
 },
 "nbformat": 4,
 "nbformat_minor": 2
}
