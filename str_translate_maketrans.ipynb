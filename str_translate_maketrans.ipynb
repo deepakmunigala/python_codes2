{
 "cells": [
  {
   "cell_type": "code",
   "execution_count": 1,
   "id": "2ce5fcc0",
   "metadata": {},
   "outputs": [],
   "source": [
    "z_digit = '１２３４５６７８９０'\n",
    "h_digit = '1234567890'"
   ]
  },
  {
   "cell_type": "code",
   "execution_count": 2,
   "id": "178d2084",
   "metadata": {},
   "outputs": [],
   "source": [
    "z2h_digit = str.maketrans(z_digit, h_digit)\n",
    "h2z_digit = str.maketrans(h_digit, z_digit)"
   ]
  },
  {
   "cell_type": "code",
   "execution_count": 3,
   "id": "2e856e7f",
   "metadata": {},
   "outputs": [
    {
     "name": "stdout",
     "output_type": "stream",
     "text": [
      "123123\n"
     ]
    }
   ],
   "source": [
    "s = '１２３123'\n",
    "print(s.translate(z2h_digit))"
   ]
  },
  {
   "cell_type": "code",
   "execution_count": 4,
   "id": "e1aa1a8e",
   "metadata": {},
   "outputs": [
    {
     "name": "stdout",
     "output_type": "stream",
     "text": [
      "１２３１２３\n"
     ]
    }
   ],
   "source": [
    "print(s.translate(h2z_digit))"
   ]
  },
  {
   "cell_type": "code",
   "execution_count": 5,
   "id": "f80625ce",
   "metadata": {},
   "outputs": [
    {
     "name": "stdout",
     "output_type": "stream",
     "text": [
      "　！＂＃＄％＆＇（）＊＋，－．／０１２３４５６７８９：；＜＝＞？＠ＡＢＣＤＥＦＧＨＩＪＫＬＭＮＯＰＱＲＳＴＵＶＷＸＹＺ［＼］＾＿｀ａｂｃｄｅｆｇｈｉｊｋｌｍｎｏｐｑｒｓｔｕｖｗｘｙｚ｛｜｝～\n"
     ]
    }
   ],
   "source": [
    "z_ascii = '\\u3000' + ''.join(chr(i) for i in range(0xFF01, 0xFF5E + 1))\n",
    "print(z_ascii)"
   ]
  },
  {
   "cell_type": "code",
   "execution_count": 6,
   "id": "5989314c",
   "metadata": {},
   "outputs": [
    {
     "name": "stdout",
     "output_type": "stream",
     "text": [
      " !\"#$%&'()*+,-./0123456789:;<=>?@ABCDEFGHIJKLMNOPQRSTUVWXYZ[\\]^_`abcdefghijklmnopqrstuvwxyz{|}~\n"
     ]
    }
   ],
   "source": [
    "h_ascii = ''.join(chr(i) for i in range(0x0020, 0x007E + 1))\n",
    "print(h_ascii)"
   ]
  },
  {
   "cell_type": "code",
   "execution_count": 7,
   "id": "99994ba0",
   "metadata": {},
   "outputs": [],
   "source": [
    "z2h_ascii = str.maketrans(z_ascii, h_ascii)\n",
    "h2z_ascii = str.maketrans(h_ascii, z_ascii)"
   ]
  },
  {
   "cell_type": "code",
   "execution_count": 8,
   "id": "043908b4",
   "metadata": {},
   "outputs": [
    {
     "name": "stdout",
     "output_type": "stream",
     "text": [
      "123abc!?123abc!?\n"
     ]
    }
   ],
   "source": [
    "s = '１２３ａｂｃ！？123abc!?'\n",
    "print(s.translate(z2h_ascii))"
   ]
  },
  {
   "cell_type": "code",
   "execution_count": 9,
   "id": "37d8df8e",
   "metadata": {},
   "outputs": [
    {
     "name": "stdout",
     "output_type": "stream",
     "text": [
      "１２３ａｂｃ！？１２３ａｂｃ！？\n"
     ]
    }
   ],
   "source": [
    "print(s.translate(h2z_ascii))"
   ]
  },
  {
   "cell_type": "code",
   "execution_count": 10,
   "id": "54293e9b",
   "metadata": {},
   "outputs": [],
   "source": [
    "z_ascii_yen = z_ascii + '￥'\n",
    "h_ascii_yen = h_ascii + '¥'"
   ]
  },
  {
   "cell_type": "code",
   "execution_count": 11,
   "id": "353542cd",
   "metadata": {},
   "outputs": [],
   "source": [
    "z2h_ascii_yen = str.maketrans(z_ascii_yen, h_ascii_yen)\n",
    "h2z_ascii_yen = str.maketrans(h_ascii_yen, z_ascii_yen)"
   ]
  },
  {
   "cell_type": "code",
   "execution_count": 12,
   "id": "c9f256a0",
   "metadata": {},
   "outputs": [
    {
     "name": "stdout",
     "output_type": "stream",
     "text": [
      "123abc!?¥123abc!?¥\n"
     ]
    }
   ],
   "source": [
    "s = '１２３ａｂｃ！？￥123abc!?¥'\n",
    "print(s.translate(z2h_ascii_yen))"
   ]
  },
  {
   "cell_type": "code",
   "execution_count": 13,
   "id": "f892df1d",
   "metadata": {},
   "outputs": [
    {
     "name": "stdout",
     "output_type": "stream",
     "text": [
      "１２３ａｂｃ！？￥１２３ａｂｃ！？￥\n"
     ]
    }
   ],
   "source": [
    "print(s.translate(h2z_ascii_yen))"
   ]
  },
  {
   "cell_type": "code",
   "execution_count": 14,
   "id": "409f8676",
   "metadata": {},
   "outputs": [
    {
     "name": "stdout",
     "output_type": "stream",
     "text": [
      "1\n"
     ]
    }
   ],
   "source": [
    "print(len('ガ'))"
   ]
  },
  {
   "cell_type": "code",
   "execution_count": 15,
   "id": "0a4aa155",
   "metadata": {},
   "outputs": [
    {
     "name": "stdout",
     "output_type": "stream",
     "text": [
      "['ガ']\n"
     ]
    }
   ],
   "source": [
    "print(list('ガ'))"
   ]
  },
  {
   "cell_type": "code",
   "execution_count": 16,
   "id": "25f2a91b",
   "metadata": {},
   "outputs": [
    {
     "name": "stdout",
     "output_type": "stream",
     "text": [
      "2\n"
     ]
    }
   ],
   "source": [
    "print(len('ｶﾞ'))"
   ]
  },
  {
   "cell_type": "code",
   "execution_count": 17,
   "id": "7ec09dc2",
   "metadata": {},
   "outputs": [
    {
     "name": "stdout",
     "output_type": "stream",
     "text": [
      "['ｶ', 'ﾞ']\n"
     ]
    }
   ],
   "source": [
    "print(list('ｶﾞ'))"
   ]
  },
  {
   "cell_type": "code",
   "execution_count": 18,
   "id": "ff2d3002",
   "metadata": {},
   "outputs": [],
   "source": [
    "# str.maketrans('ガ', 'ｶﾞ')\n",
    "# ValueError: the first two maketrans arguments must have equal length"
   ]
  }
 ],
 "metadata": {
  "kernelspec": {
   "display_name": "Python 3",
   "language": "python",
   "name": "python3"
  },
  "language_info": {
   "codemirror_mode": {
    "name": "ipython",
    "version": 3
   },
   "file_extension": ".py",
   "mimetype": "text/x-python",
   "name": "python",
   "nbconvert_exporter": "python",
   "pygments_lexer": "ipython3",
   "version": "3.10.8"
  }
 },
 "nbformat": 4,
 "nbformat_minor": 5
}
