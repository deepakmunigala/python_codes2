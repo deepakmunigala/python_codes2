{
 "cells": [
  {
   "cell_type": "markdown",
   "metadata": {},
   "source": [
    "<h3 align=\"center\"><b>How Long Time CPU Has Been Idle Since Boot?</h3>\n",
    "<p style=\"padding-left:140px;color:white;font-size:14px;font-weight:normal\">Idle may be greater than the overall system uptime on systems with multiple cores."
   ]
  },
  {
   "cell_type": "code",
   "execution_count": 4,
   "metadata": {},
   "outputs": [
    {
     "name": "stdout",
     "output_type": "stream",
     "text": [
      "1 day, 16:43:20\n"
     ]
    }
   ],
   "source": [
    "%%python3\n",
    "\n",
    "from datetime import timedelta\n",
    "from pathlib import Path\n",
    "from os import cpu_count\n",
    "\n",
    "u = Path('/proc/uptime').read_text().split()[1]\n",
    "t = timedelta(seconds = float(u)/cpu_count())\n",
    "print(str(t).split('.')[0])"
   ]
  }
 ],
 "metadata": {
  "kernelspec": {
   "display_name": "Python 3",
   "language": "python",
   "name": "python3"
  },
  "language_info": {
   "codemirror_mode": {
    "name": "ipython",
    "version": 3
   },
   "file_extension": ".py",
   "mimetype": "text/x-python",
   "name": "python",
   "nbconvert_exporter": "python",
   "pygments_lexer": "ipython3",
   "version": "3.6.9"
  },
  "widgets": {
   "application/vnd.jupyter.widget-state+json": {
    "state": {},
    "version_major": 2,
    "version_minor": 0
   }
  }
 },
 "nbformat": 4,
 "nbformat_minor": 2
}
