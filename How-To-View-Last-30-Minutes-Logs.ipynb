{
 "cells": [
  {
   "cell_type": "markdown",
   "metadata": {},
   "source": [
    "<h3 align=\"center\"><b>How to view Last 30 Minutes Logs?</h3>"
   ]
  },
  {
   "cell_type": "code",
   "execution_count": null,
   "metadata": {},
   "outputs": [],
   "source": [
    "%%bash\n",
    "\n",
    "sed -n \"/^$(date --date='10 minutes ago' '+%b %_d %H:%M')/,\\$p\" \\\n",
    "/var/log/syslog"
   ]
  },
  {
   "cell_type": "code",
   "execution_count": null,
   "metadata": {},
   "outputs": [],
   "source": [
    "%%bash\n",
    "\n",
    "journalctl --since \"2020-05-09 11:30:00\" --until \\\n",
    "\"2020-05-09 12:00:00\""
   ]
  },
  {
   "cell_type": "code",
   "execution_count": null,
   "metadata": {},
   "outputs": [],
   "source": [
    "%%bash\n",
    "\n",
    "for i in {30..1}\n",
    "do\n",
    "min=$(date +\"%b %_d %H:%M\" -d \"-$i minute\")\n",
    "sed -n \"/$min/p\" /var/log/syslog\n",
    "done\n"
   ]
  },
  {
   "cell_type": "markdown",
   "metadata": {},
   "source": [
    "***"
   ]
  },
  {
   "cell_type": "code",
   "execution_count": null,
   "metadata": {},
   "outputs": [],
   "source": [
    "%%python3\n",
    "\n",
    "from datetime import datetime, timedelta\n",
    "from pathlib import Path\n",
    "from re import search\n",
    "\n",
    "tdiff = (datetime.now() - timedelta(minutes = 30))\n",
    "last_30 = tdiff.strftime('%b %_d %H:%M') \n",
    "log_lines = Path('/var/log/syslog').read_text().splitlines()\n",
    "\n",
    "for x in log_lines:\n",
    "    log_time = search(r'^\\w{3}\\s+\\d+\\s\\d{2}:\\d{2}',x).group()\n",
    "    if last_30 < log_time:\n",
    "        print(x)"
   ]
  }
 ],
 "metadata": {
  "kernelspec": {
   "display_name": "Python 3",
   "language": "python",
   "name": "python3"
  },
  "language_info": {
   "codemirror_mode": {
    "name": "ipython",
    "version": 3
   },
   "file_extension": ".py",
   "mimetype": "text/x-python",
   "name": "python",
   "nbconvert_exporter": "python",
   "pygments_lexer": "ipython3",
   "version": "3.6.9"
  },
  "widgets": {
   "application/vnd.jupyter.widget-state+json": {
    "state": {},
    "version_major": 2,
    "version_minor": 0
   }
  }
 },
 "nbformat": 4,
 "nbformat_minor": 2
}
