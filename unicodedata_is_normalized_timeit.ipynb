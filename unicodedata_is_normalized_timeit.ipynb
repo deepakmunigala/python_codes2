{
 "cells": [
  {
   "cell_type": "code",
   "execution_count": 1,
   "id": "4ccaacc8",
   "metadata": {},
   "outputs": [],
   "source": [
    "import unicodedata"
   ]
  },
  {
   "cell_type": "code",
   "execution_count": 2,
   "id": "f2fc0ea7",
   "metadata": {},
   "outputs": [
    {
     "name": "stdout",
     "output_type": "stream",
     "text": [
      "False\n"
     ]
    }
   ],
   "source": [
    "s = '１２３ａｂｃｱｲｳｴｵ'\n",
    "print(unicodedata.is_normalized('NFKC', s))"
   ]
  },
  {
   "cell_type": "code",
   "execution_count": 3,
   "id": "9d706211",
   "metadata": {},
   "outputs": [
    {
     "name": "stdout",
     "output_type": "stream",
     "text": [
      "42.5 ns ± 0.0538 ns per loop (mean ± std. dev. of 7 runs, 10,000,000 loops each)\n"
     ]
    }
   ],
   "source": [
    "%%timeit\n",
    "unicodedata.is_normalized('NFKC', s)"
   ]
  },
  {
   "cell_type": "code",
   "execution_count": 4,
   "id": "f57bbc00",
   "metadata": {},
   "outputs": [
    {
     "name": "stdout",
     "output_type": "stream",
     "text": [
      "988 ns ± 5.71 ns per loop (mean ± std. dev. of 7 runs, 1,000,000 loops each)\n"
     ]
    }
   ],
   "source": [
    "%%timeit\n",
    "unicodedata.normalize('NFKC', s)"
   ]
  },
  {
   "cell_type": "code",
   "execution_count": 5,
   "id": "7f47ba20",
   "metadata": {},
   "outputs": [
    {
     "name": "stdout",
     "output_type": "stream",
     "text": [
      "True\n"
     ]
    }
   ],
   "source": [
    "s = '123abcアイウエオ'\n",
    "print(unicodedata.is_normalized('NFKC', s))"
   ]
  },
  {
   "cell_type": "code",
   "execution_count": 6,
   "id": "06c53872",
   "metadata": {},
   "outputs": [
    {
     "name": "stdout",
     "output_type": "stream",
     "text": [
      "54.3 ns ± 0.0637 ns per loop (mean ± std. dev. of 7 runs, 10,000,000 loops each)\n"
     ]
    }
   ],
   "source": [
    "%%timeit\n",
    "unicodedata.is_normalized('NFKC', s)"
   ]
  },
  {
   "cell_type": "code",
   "execution_count": 7,
   "id": "9b95e833",
   "metadata": {},
   "outputs": [
    {
     "name": "stdout",
     "output_type": "stream",
     "text": [
      "51 ns ± 0.163 ns per loop (mean ± std. dev. of 7 runs, 10,000,000 loops each)\n"
     ]
    }
   ],
   "source": [
    "%%timeit\n",
    "unicodedata.normalize('NFKC', s)"
   ]
  },
  {
   "cell_type": "code",
   "execution_count": 8,
   "id": "69466bce",
   "metadata": {},
   "outputs": [
    {
     "name": "stdout",
     "output_type": "stream",
     "text": [
      "True\n"
     ]
    }
   ],
   "source": [
    "s = '123abcアイウエオ' * 1000\n",
    "print(unicodedata.is_normalized('NFKC', s))"
   ]
  },
  {
   "cell_type": "code",
   "execution_count": 9,
   "id": "ae793479",
   "metadata": {},
   "outputs": [
    {
     "name": "stdout",
     "output_type": "stream",
     "text": [
      "13 µs ± 7.05 ns per loop (mean ± std. dev. of 7 runs, 100,000 loops each)\n"
     ]
    }
   ],
   "source": [
    "%%timeit\n",
    "unicodedata.is_normalized('NFKC', s)"
   ]
  },
  {
   "cell_type": "code",
   "execution_count": 10,
   "id": "0a57867e",
   "metadata": {},
   "outputs": [
    {
     "name": "stdout",
     "output_type": "stream",
     "text": [
      "11.8 µs ± 117 ns per loop (mean ± std. dev. of 7 runs, 100,000 loops each)\n"
     ]
    }
   ],
   "source": [
    "%%timeit\n",
    "unicodedata.normalize('NFKC', s)"
   ]
  },
  {
   "cell_type": "code",
   "execution_count": 11,
   "id": "2eeae74f",
   "metadata": {},
   "outputs": [
    {
     "name": "stdout",
     "output_type": "stream",
     "text": [
      "False\n"
     ]
    }
   ],
   "source": [
    "s = '123abcアイウエオ' * 1000 + '１２３'\n",
    "print(unicodedata.is_normalized('NFKC', s))"
   ]
  },
  {
   "cell_type": "code",
   "execution_count": 12,
   "id": "bba68227",
   "metadata": {},
   "outputs": [
    {
     "name": "stdout",
     "output_type": "stream",
     "text": [
      "13 µs ± 27.4 ns per loop (mean ± std. dev. of 7 runs, 100,000 loops each)\n"
     ]
    }
   ],
   "source": [
    "%%timeit\n",
    "unicodedata.is_normalized('NFKC', s)"
   ]
  },
  {
   "cell_type": "code",
   "execution_count": 13,
   "id": "5bf86d9b",
   "metadata": {},
   "outputs": [
    {
     "name": "stdout",
     "output_type": "stream",
     "text": [
      "879 µs ± 3.31 µs per loop (mean ± std. dev. of 7 runs, 1,000 loops each)\n"
     ]
    }
   ],
   "source": [
    "%%timeit\n",
    "unicodedata.normalize('NFKC', s)"
   ]
  },
  {
   "cell_type": "code",
   "execution_count": 14,
   "id": "ee096f6d",
   "metadata": {},
   "outputs": [
    {
     "name": "stdout",
     "output_type": "stream",
     "text": [
      "False\n"
     ]
    }
   ],
   "source": [
    "s = '１２３' + '123abcアイウエオ' * 1000\n",
    "print(unicodedata.is_normalized('NFKC', s))"
   ]
  },
  {
   "cell_type": "code",
   "execution_count": 15,
   "id": "db42f117",
   "metadata": {},
   "outputs": [
    {
     "name": "stdout",
     "output_type": "stream",
     "text": [
      "42.7 ns ± 0.339 ns per loop (mean ± std. dev. of 7 runs, 10,000,000 loops each)\n"
     ]
    }
   ],
   "source": [
    "%%timeit\n",
    "unicodedata.is_normalized('NFKC', s)"
   ]
  },
  {
   "cell_type": "code",
   "execution_count": 16,
   "id": "352c5e32",
   "metadata": {},
   "outputs": [
    {
     "name": "stdout",
     "output_type": "stream",
     "text": [
      "866 µs ± 1.01 µs per loop (mean ± std. dev. of 7 runs, 1,000 loops each)\n"
     ]
    }
   ],
   "source": [
    "%%timeit\n",
    "unicodedata.normalize('NFKC', s)"
   ]
  }
 ],
 "metadata": {
  "kernelspec": {
   "display_name": "Python 3",
   "language": "python",
   "name": "python3"
  },
  "language_info": {
   "codemirror_mode": {
    "name": "ipython",
    "version": 3
   },
   "file_extension": ".py",
   "mimetype": "text/x-python",
   "name": "python",
   "nbconvert_exporter": "python",
   "pygments_lexer": "ipython3",
   "version": "3.10.8"
  }
 },
 "nbformat": 4,
 "nbformat_minor": 5
}
