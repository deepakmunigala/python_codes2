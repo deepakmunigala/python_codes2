{
 "cells": [
  {
   "cell_type": "code",
   "execution_count": 1,
   "metadata": {},
   "outputs": [],
   "source": [
    "import re"
   ]
  },
  {
   "cell_type": "code",
   "execution_count": 2,
   "metadata": {},
   "outputs": [],
   "source": [
    "s = 'aaa@xxx.com bbb@yyy.net ccc@zzz.org'"
   ]
  },
  {
   "cell_type": "code",
   "execution_count": 3,
   "metadata": {},
   "outputs": [
    {
     "name": "stdout",
     "output_type": "stream",
     "text": [
      "ABC@xxx.com ABC@yyy.net ABC@zzz.org\n"
     ]
    }
   ],
   "source": [
    "print(re.sub('[a-z]+@', 'ABC@', s))"
   ]
  },
  {
   "cell_type": "code",
   "execution_count": 4,
   "metadata": {},
   "outputs": [
    {
     "name": "stdout",
     "output_type": "stream",
     "text": [
      "ABC@xxx.com ABC@yyy.net ccc@zzz.org\n"
     ]
    }
   ],
   "source": [
    "print(re.sub('[a-z]+@', 'ABC@', s, 2))"
   ]
  },
  {
   "cell_type": "code",
   "execution_count": 5,
   "metadata": {},
   "outputs": [
    {
     "name": "stdout",
     "output_type": "stream",
     "text": [
      "ABC@xxx.com ABC@yyy.net ABC@zzz.org\n"
     ]
    }
   ],
   "source": [
    "p = re.compile('[a-z]+@')\n",
    "print(p.sub('ABC@', s))"
   ]
  },
  {
   "cell_type": "code",
   "execution_count": 6,
   "metadata": {},
   "outputs": [
    {
     "name": "stdout",
     "output_type": "stream",
     "text": [
      "aaa@111.com bbb@111.net ccc@111.org\n"
     ]
    }
   ],
   "source": [
    "print(re.sub('[xyz]', '1', s))"
   ]
  },
  {
   "cell_type": "code",
   "execution_count": 7,
   "metadata": {},
   "outputs": [
    {
     "name": "stdout",
     "output_type": "stream",
     "text": [
      "aaa@xxx.biz bbb@yyy.biz ccc@zzz.biz\n"
     ]
    }
   ],
   "source": [
    "print(re.sub('com|net|org', 'biz', s))"
   ]
  },
  {
   "cell_type": "code",
   "execution_count": 8,
   "metadata": {},
   "outputs": [
    {
     "name": "stdout",
     "output_type": "stream",
     "text": [
      "xxx@aaa.com yyy@bbb.net zzz@ccc.org\n"
     ]
    }
   ],
   "source": [
    "print(re.sub('([a-z]+)@([a-z]+)', '\\\\2@\\\\1', s))"
   ]
  },
  {
   "cell_type": "code",
   "execution_count": 9,
   "metadata": {},
   "outputs": [
    {
     "name": "stdout",
     "output_type": "stream",
     "text": [
      "xxx@aaa.com yyy@bbb.net zzz@ccc.org\n"
     ]
    }
   ],
   "source": [
    "print(re.sub('([a-z]+)@([a-z]+)', r'\\2@\\1', s))"
   ]
  },
  {
   "cell_type": "code",
   "execution_count": 10,
   "metadata": {},
   "outputs": [
    {
     "name": "stdout",
     "output_type": "stream",
     "text": [
      "xxx@aaa.com yyy@bbb.net zzz@ccc.org\n"
     ]
    }
   ],
   "source": [
    "print(re.sub('(?P<local>[a-z]+)@(?P<SLD>[a-z]+)', r'\\g<SLD>@\\g<local>', s))"
   ]
  },
  {
   "cell_type": "code",
   "execution_count": 11,
   "metadata": {},
   "outputs": [],
   "source": [
    "def func(matchobj):\n",
    "    return matchobj.group(2).upper() + '@' + matchobj.group(1)"
   ]
  },
  {
   "cell_type": "code",
   "execution_count": 12,
   "metadata": {},
   "outputs": [
    {
     "name": "stdout",
     "output_type": "stream",
     "text": [
      "XXX@aaa.com YYY@bbb.net ZZZ@ccc.org\n"
     ]
    }
   ],
   "source": [
    "print(re.sub('([a-z]+)@([a-z]+)', func, s))"
   ]
  },
  {
   "cell_type": "code",
   "execution_count": 13,
   "metadata": {},
   "outputs": [
    {
     "name": "stdout",
     "output_type": "stream",
     "text": [
      "XXX@aaa.com YYY@bbb.net ZZZ@ccc.org\n"
     ]
    }
   ],
   "source": [
    "print(re.sub('([a-z]+)@([a-z]+)', lambda m: m.group(2).upper() + '@' + m.group(1), s))"
   ]
  },
  {
   "cell_type": "code",
   "execution_count": 14,
   "metadata": {},
   "outputs": [
    {
     "name": "stdout",
     "output_type": "stream",
     "text": [
      "('ABC@xxx.com ABC@yyy.net ABC@zzz.org', 3)\n"
     ]
    }
   ],
   "source": [
    "t = re.subn('[a-z]*@', 'ABC@', s)\n",
    "print(t)"
   ]
  },
  {
   "cell_type": "code",
   "execution_count": 15,
   "metadata": {},
   "outputs": [
    {
     "name": "stdout",
     "output_type": "stream",
     "text": [
      "<class 'tuple'>\n"
     ]
    }
   ],
   "source": [
    "print(type(t))"
   ]
  },
  {
   "cell_type": "code",
   "execution_count": 16,
   "metadata": {},
   "outputs": [
    {
     "name": "stdout",
     "output_type": "stream",
     "text": [
      "ABC@xxx.com ABC@yyy.net ABC@zzz.org\n"
     ]
    }
   ],
   "source": [
    "print(t[0])"
   ]
  },
  {
   "cell_type": "code",
   "execution_count": 17,
   "metadata": {},
   "outputs": [
    {
     "name": "stdout",
     "output_type": "stream",
     "text": [
      "3\n"
     ]
    }
   ],
   "source": [
    "print(t[1])"
   ]
  },
  {
   "cell_type": "code",
   "execution_count": 18,
   "metadata": {},
   "outputs": [
    {
     "name": "stdout",
     "output_type": "stream",
     "text": [
      "('xxx@aaa.com yyy@bbb.net ccc@zzz.org', 2)\n"
     ]
    }
   ],
   "source": [
    "print(re.subn('([a-z]+)@([a-z]+)', r'\\2@\\1', s, 2))"
   ]
  }
 ],
 "metadata": {
  "kernelspec": {
   "display_name": "Python 3",
   "language": "python",
   "name": "python3"
  },
  "language_info": {
   "codemirror_mode": {
    "name": "ipython",
    "version": 3
   },
   "file_extension": ".py",
   "mimetype": "text/x-python",
   "name": "python",
   "nbconvert_exporter": "python",
   "pygments_lexer": "ipython3",
   "version": "3.10.6"
  }
 },
 "nbformat": 4,
 "nbformat_minor": 2
}
